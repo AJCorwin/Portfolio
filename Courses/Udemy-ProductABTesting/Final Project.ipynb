{
 "cells": [
  {
   "cell_type": "markdown",
   "id": "667a828e",
   "metadata": {},
   "source": [
    "This is my final project for the Udemy 'Complete Course on Product A/B Testing with Interview Guide'. The course itself is taught in R but I wanted to complete the project in Python. I will not provide the dataset for the course in the Repo since it is a paid course."
   ]
  },
  {
   "cell_type": "markdown",
   "id": "4c19256d",
   "metadata": {},
   "source": [
    "## The brief for the final project:  \n",
    "\n",
    "> We are an **online retailer** that sells home decor both through our website and our app. The company recently added lamps as a new category of prodcuts which were not being sold before. In order to generate awareness and boost sales, we want to do a promotion through our app. Sending users a notification has had good success in the past and they are considering a 10 dollar discount through an **in-app notification**. At the same time we know that the lifetime value (LTV) of a customer who has installed the app is much higher. Therefore the product group wants to be careful to **not drive users to uninstall the app** using an in-app notification for the discount.\n",
    "\n",
    "\n",
    "Before rolling out the change, the product team would be more comfortable testing the notification on a small number of users to see how it performs, so you suggest running an **A/B test** on a subset of your user base users."
   ]
  },
  {
   "cell_type": "markdown",
   "id": "497e4a42",
   "metadata": {},
   "source": [
    "#### Our goal is to run an A/B test to:\n",
    "1. See if our transaction rate will increase for the test group. (% of users that will make a purchase)\n",
    "2. See if our purchase value goes up for our test group.\n",
    "3. Verify that our uninstall rate does not go up due to the test."
   ]
  },
  {
   "cell_type": "code",
   "execution_count": 1,
   "id": "37549557",
   "metadata": {},
   "outputs": [],
   "source": [
    "# Package imports\n",
    "import numpy as np\n",
    "import pandas as pd\n",
    "import scipy.stats as stats\n",
    "import statsmodels.stats.api as sms\n",
    "import matplotlib as mpl\n",
    "import matplotlib.pyplot as plt\n",
    "import seaborn as sns\n",
    "from math import ceil\n",
    "from statsmodels.stats.proportion import proportions_ztest, proportion_confint\n",
    "from IPython.display import Image"
   ]
  },
  {
   "cell_type": "code",
   "execution_count": 2,
   "id": "8d80daeb",
   "metadata": {},
   "outputs": [
    {
     "name": "stdout",
     "output_type": "stream",
     "text": [
      "<class 'pandas.core.frame.DataFrame'>\n",
      "RangeIndex: 100000 entries, 0 to 99999\n",
      "Data columns (total 8 columns):\n",
      " #   Column            Non-Null Count   Dtype  \n",
      "---  ------            --------------   -----  \n",
      " 0   userid            100000 non-null  int64  \n",
      " 1   allocation        100000 non-null  object \n",
      " 2   active_6m         100000 non-null  int64  \n",
      " 3   days_since        100000 non-null  int64  \n",
      " 4   addtocart_flag    100000 non-null  int64  \n",
      " 5   transaction_flag  100000 non-null  int64  \n",
      " 6   purchase_value    13820 non-null   float64\n",
      " 7   uninstall_flag    100000 non-null  int64  \n",
      "dtypes: float64(1), int64(6), object(1)\n",
      "memory usage: 6.1+ MB\n"
     ]
    }
   ],
   "source": [
    "# Import the dataframe\n",
    "df = pd.read_csv('_AB_Test_Data.csv')\n",
    "\n",
    "df.info()"
   ]
  },
  {
   "cell_type": "code",
   "execution_count": 3,
   "id": "19b0ee50",
   "metadata": {},
   "outputs": [
    {
     "data": {
      "text/plain": [
       "control      50000\n",
       "treatment    50000\n",
       "Name: allocation, dtype: int64"
      ]
     },
     "execution_count": 3,
     "metadata": {},
     "output_type": "execute_result"
    }
   ],
   "source": [
    "# Verfiy that both groups have an equal amount of users.\n",
    "df['allocation'].value_counts()"
   ]
  },
  {
   "cell_type": "markdown",
   "id": "884412a7",
   "metadata": {},
   "source": [
    "We need to choose the correct sample size for our population. Running the R code from the course I returned a value of 3792. \n",
    "\n",
    "\n",
    "You could also use Evan Miller's website (https://www.evanmiller.org/ab-testing/sample-size.html) to calculate the sample size."
   ]
  },
  {
   "cell_type": "markdown",
   "id": "9d588dfc",
   "metadata": {},
   "source": [
    "Below is the R code for coming up with the sample, and how to calculate it in python.\n",
    "\n",
    "control = 0.101 <br>\n",
    "uplift = .2<br>\n",
    "variant = (1 + uplift)*control<br>\n",
    "effect_size <- ES.h(control, variant)<br>\n",
    "sample_size_output <- pwr.2p.test(h = effect_size,<br>\n",
    "&emsp;&emsp;&emsp;                                 n = ,<br>\n",
    "&emsp;&emsp;&emsp;                                 sig.level = 0.05,<br>\n",
    "&emsp;&emsp;&emsp;                                 power = 0.8)<br>\n",
    "<br>\n",
    "sample_size_output <- ceiling(sample_size_output$n)<br>\n",
    "sample_size_output<br>\n",
    "3792\n"
   ]
  },
  {
   "cell_type": "code",
   "execution_count": 4,
   "id": "045381e2",
   "metadata": {},
   "outputs": [
    {
     "data": {
      "text/plain": [
       "0.1212"
      ]
     },
     "execution_count": 4,
     "metadata": {},
     "output_type": "execute_result"
    }
   ],
   "source": [
    "# We need to calculate the value of the variant from above. This will be our second proportion effect size value\n",
    "\n",
    "p1 = 0.101\n",
    "uplift = 0.2\n",
    "p2 = (1+uplift)*p1\n",
    "p2"
   ]
  },
  {
   "cell_type": "code",
   "execution_count": 5,
   "id": "79c2b465",
   "metadata": {},
   "outputs": [
    {
     "name": "stdout",
     "output_type": "stream",
     "text": [
      "3792\n"
     ]
    }
   ],
   "source": [
    "# Calculate sample size for an increase in conversion rate from 10% to 12%\n",
    "\n",
    "effect_size = sms.proportion_effectsize(p1, p2)    # Calculating effect size based on our expected rates\n",
    "\n",
    "required_n = sms.NormalIndPower().solve_power(\n",
    "    effect_size, \n",
    "    power=0.8, \n",
    "    alpha=0.05, \n",
    "    ratio=1\n",
    "    )                                                  # Calculating sample size needed\n",
    "\n",
    "required_n = ceil(required_n)                          # Rounding up to next whole number                          \n",
    "\n",
    "print(required_n)"
   ]
  },
  {
   "cell_type": "code",
   "execution_count": 6,
   "id": "8b388ca1",
   "metadata": {},
   "outputs": [
    {
     "data": {
      "text/html": [
       "<div>\n",
       "<style scoped>\n",
       "    .dataframe tbody tr th:only-of-type {\n",
       "        vertical-align: middle;\n",
       "    }\n",
       "\n",
       "    .dataframe tbody tr th {\n",
       "        vertical-align: top;\n",
       "    }\n",
       "\n",
       "    .dataframe thead th {\n",
       "        text-align: right;\n",
       "    }\n",
       "</style>\n",
       "<table border=\"1\" class=\"dataframe\">\n",
       "  <thead>\n",
       "    <tr style=\"text-align: right;\">\n",
       "      <th></th>\n",
       "      <th>userid</th>\n",
       "      <th>active_6m</th>\n",
       "      <th>days_since</th>\n",
       "      <th>addtocart_flag</th>\n",
       "      <th>transaction_flag</th>\n",
       "      <th>purchase_value</th>\n",
       "      <th>uninstall_flag</th>\n",
       "    </tr>\n",
       "  </thead>\n",
       "  <tbody>\n",
       "    <tr>\n",
       "      <th>count</th>\n",
       "      <td>1.000000e+05</td>\n",
       "      <td>100000.000000</td>\n",
       "      <td>100000.00000</td>\n",
       "      <td>100000.000000</td>\n",
       "      <td>100000.000000</td>\n",
       "      <td>13820.000000</td>\n",
       "      <td>100000.000000</td>\n",
       "    </tr>\n",
       "    <tr>\n",
       "      <th>mean</th>\n",
       "      <td>6.875314e+05</td>\n",
       "      <td>0.750000</td>\n",
       "      <td>135.23761</td>\n",
       "      <td>0.256340</td>\n",
       "      <td>0.138200</td>\n",
       "      <td>304.575678</td>\n",
       "      <td>0.040100</td>\n",
       "    </tr>\n",
       "    <tr>\n",
       "      <th>std</th>\n",
       "      <td>4.059202e+05</td>\n",
       "      <td>0.433015</td>\n",
       "      <td>98.70948</td>\n",
       "      <td>0.436614</td>\n",
       "      <td>0.345112</td>\n",
       "      <td>117.433206</td>\n",
       "      <td>0.196195</td>\n",
       "    </tr>\n",
       "    <tr>\n",
       "      <th>min</th>\n",
       "      <td>1.700000e+01</td>\n",
       "      <td>0.000000</td>\n",
       "      <td>2.00000</td>\n",
       "      <td>0.000000</td>\n",
       "      <td>0.000000</td>\n",
       "      <td>10.997424</td>\n",
       "      <td>0.000000</td>\n",
       "    </tr>\n",
       "    <tr>\n",
       "      <th>25%</th>\n",
       "      <td>3.352480e+05</td>\n",
       "      <td>0.750000</td>\n",
       "      <td>60.00000</td>\n",
       "      <td>0.000000</td>\n",
       "      <td>0.000000</td>\n",
       "      <td>226.159724</td>\n",
       "      <td>0.000000</td>\n",
       "    </tr>\n",
       "    <tr>\n",
       "      <th>50%</th>\n",
       "      <td>6.724380e+05</td>\n",
       "      <td>1.000000</td>\n",
       "      <td>112.00000</td>\n",
       "      <td>0.000000</td>\n",
       "      <td>0.000000</td>\n",
       "      <td>306.698469</td>\n",
       "      <td>0.000000</td>\n",
       "    </tr>\n",
       "    <tr>\n",
       "      <th>75%</th>\n",
       "      <td>1.042749e+06</td>\n",
       "      <td>1.000000</td>\n",
       "      <td>180.25000</td>\n",
       "      <td>1.000000</td>\n",
       "      <td>0.000000</td>\n",
       "      <td>384.047570</td>\n",
       "      <td>0.000000</td>\n",
       "    </tr>\n",
       "    <tr>\n",
       "      <th>max</th>\n",
       "      <td>1.407576e+06</td>\n",
       "      <td>1.000000</td>\n",
       "      <td>365.00000</td>\n",
       "      <td>1.000000</td>\n",
       "      <td>1.000000</td>\n",
       "      <td>961.996650</td>\n",
       "      <td>1.000000</td>\n",
       "    </tr>\n",
       "  </tbody>\n",
       "</table>\n",
       "</div>"
      ],
      "text/plain": [
       "             userid      active_6m    days_since  addtocart_flag  \\\n",
       "count  1.000000e+05  100000.000000  100000.00000   100000.000000   \n",
       "mean   6.875314e+05       0.750000     135.23761        0.256340   \n",
       "std    4.059202e+05       0.433015      98.70948        0.436614   \n",
       "min    1.700000e+01       0.000000       2.00000        0.000000   \n",
       "25%    3.352480e+05       0.750000      60.00000        0.000000   \n",
       "50%    6.724380e+05       1.000000     112.00000        0.000000   \n",
       "75%    1.042749e+06       1.000000     180.25000        1.000000   \n",
       "max    1.407576e+06       1.000000     365.00000        1.000000   \n",
       "\n",
       "       transaction_flag  purchase_value  uninstall_flag  \n",
       "count     100000.000000    13820.000000   100000.000000  \n",
       "mean           0.138200      304.575678        0.040100  \n",
       "std            0.345112      117.433206        0.196195  \n",
       "min            0.000000       10.997424        0.000000  \n",
       "25%            0.000000      226.159724        0.000000  \n",
       "50%            0.000000      306.698469        0.000000  \n",
       "75%            0.000000      384.047570        0.000000  \n",
       "max            1.000000      961.996650        1.000000  "
      ]
     },
     "execution_count": 6,
     "metadata": {},
     "output_type": "execute_result"
    }
   ],
   "source": [
    "df.describe()"
   ]
  },
  {
   "cell_type": "markdown",
   "id": "1bd35839",
   "metadata": {},
   "source": [
    "Let's look at some quick summary stastics for the entire population.\n",
    "\n",
    "75% of users have been active in the last 6 months<br>\n",
    "26% of users have added an item from the lamp category to the cart<br>\n",
    "14% have purchased from the lamp category<br>\n",
    "Avg purchase value is 305 dollars<br>\n",
    "4% of users have uninstalled<br>"
   ]
  },
  {
   "cell_type": "markdown",
   "id": "c138e39a",
   "metadata": {},
   "source": [
    "For the test we are going to remove any users who appeared more than once."
   ]
  },
  {
   "cell_type": "code",
   "execution_count": 7,
   "id": "9da8834d",
   "metadata": {},
   "outputs": [
    {
     "name": "stdout",
     "output_type": "stream",
     "text": [
      "There are 14542 users that appear multiple times in the dataset\n"
     ]
    }
   ],
   "source": [
    "user_counts = df['userid'].value_counts(ascending=False)\n",
    "multi_users = user_counts[user_counts > 1].count()\n",
    "\n",
    "print(f'There are {multi_users} users that appear multiple times in the dataset')"
   ]
  },
  {
   "cell_type": "code",
   "execution_count": 8,
   "id": "12f8dd1b",
   "metadata": {},
   "outputs": [
    {
     "name": "stdout",
     "output_type": "stream",
     "text": [
      "The updated dataset now has 40371 entries\n"
     ]
    }
   ],
   "source": [
    "users_to_drop = user_counts[user_counts > 1].index\n",
    "\n",
    "df = df[~df['userid'].isin(users_to_drop)]\n",
    "print(f'The updated dataset now has {df.shape[0]} entries')"
   ]
  },
  {
   "cell_type": "code",
   "execution_count": 9,
   "id": "6d180930",
   "metadata": {},
   "outputs": [
    {
     "data": {
      "text/plain": [
       "control      20238\n",
       "treatment    20133\n",
       "Name: allocation, dtype: int64"
      ]
     },
     "execution_count": 9,
     "metadata": {},
     "output_type": "execute_result"
    }
   ],
   "source": [
    "# Check the grouped users again\n",
    "df['allocation'].value_counts()"
   ]
  },
  {
   "cell_type": "markdown",
   "id": "d30c2ce6",
   "metadata": {},
   "source": [
    "There are enough users for each group I will continue. I also set the random state to 6 so you can get the same sample I did."
   ]
  },
  {
   "cell_type": "code",
   "execution_count": 10,
   "id": "6be1d2b9",
   "metadata": {},
   "outputs": [],
   "source": [
    "# lets make a sample for both groups\n",
    "control_sample = df[df['allocation'] == 'control'].sample(n=required_n, random_state = 6)\n",
    "treatment_sample = df[df['allocation'] == 'treatment'].sample(n=required_n, random_state = 6)\n",
    "\n",
    "sample_group = pd.concat([control_sample, treatment_sample], axis=0)\n",
    "sample_group.reset_index(drop=True, inplace=True)"
   ]
  },
  {
   "cell_type": "code",
   "execution_count": 11,
   "id": "02b283f4",
   "metadata": {},
   "outputs": [
    {
     "data": {
      "text/plain": [
       "treatment    3792\n",
       "control      3792\n",
       "Name: allocation, dtype: int64"
      ]
     },
     "execution_count": 11,
     "metadata": {},
     "output_type": "execute_result"
    }
   ],
   "source": [
    "# verify both groups have the same number of users\n",
    "sample_group['allocation'].value_counts()"
   ]
  },
  {
   "cell_type": "code",
   "execution_count": 12,
   "id": "84d09418",
   "metadata": {},
   "outputs": [
    {
     "data": {
      "text/html": [
       "<style  type=\"text/css\" >\n",
       "</style><table id=\"T_434ca_\" ><thead>    <tr>        <th class=\"blank level0\" ></th>        <th class=\"col_heading level0 col0\" >transaction_flag</th>        <th class=\"col_heading level0 col1\" >std_deviation</th>        <th class=\"col_heading level0 col2\" >std_error</th>    </tr>    <tr>        <th class=\"index_name level0\" >allocation</th>        <th class=\"blank\" ></th>        <th class=\"blank\" ></th>        <th class=\"blank\" ></th>    </tr></thead><tbody>\n",
       "                <tr>\n",
       "                        <th id=\"T_434ca_level0_row0\" class=\"row_heading level0 row0\" >control</th>\n",
       "                        <td id=\"T_434ca_row0_col0\" class=\"data row0 col0\" >0.096</td>\n",
       "                        <td id=\"T_434ca_row0_col1\" class=\"data row0 col1\" >0.295</td>\n",
       "                        <td id=\"T_434ca_row0_col2\" class=\"data row0 col2\" >0.005</td>\n",
       "            </tr>\n",
       "            <tr>\n",
       "                        <th id=\"T_434ca_level0_row1\" class=\"row_heading level0 row1\" >treatment</th>\n",
       "                        <td id=\"T_434ca_row1_col0\" class=\"data row1 col0\" >0.173</td>\n",
       "                        <td id=\"T_434ca_row1_col1\" class=\"data row1 col1\" >0.378</td>\n",
       "                        <td id=\"T_434ca_row1_col2\" class=\"data row1 col2\" >0.006</td>\n",
       "            </tr>\n",
       "    </tbody></table>"
      ],
      "text/plain": [
       "<pandas.io.formats.style.Styler at 0x27e968b1f10>"
      ]
     },
     "execution_count": 12,
     "metadata": {},
     "output_type": "execute_result"
    }
   ],
   "source": [
    "transaction_flag = sample_group.groupby('allocation')['transaction_flag']\n",
    "\n",
    "std_p = lambda x: np.std(x, ddof=0)              # Std. deviation of the proportion\n",
    "se_p = lambda x: stats.sem(x, ddof=0)            # Std. error of the proportion (std / sqrt(n))\n",
    "\n",
    "transaction_flag = transaction_flag.agg([np.mean, std_p, se_p])\n",
    "transaction_flag.columns = ['transaction_flag', 'std_deviation', 'std_error']\n",
    "\n",
    "\n",
    "transaction_flag.style.format('{:.3f}')"
   ]
  },
  {
   "cell_type": "markdown",
   "id": "f3c5c17c",
   "metadata": {},
   "source": [
    "Our control group had a 10% chance of a transaction with the treatment group having a 17% transaction chance"
   ]
  },
  {
   "cell_type": "code",
   "execution_count": 13,
   "id": "17228a32",
   "metadata": {},
   "outputs": [
    {
     "data": {
      "image/png": "[encoded data removed]",
      "text/plain": [
       "<Figure size 576x432 with 1 Axes>"
      ]
     },
     "metadata": {
      "needs_background": "light"
     },
     "output_type": "display_data"
    }
   ],
   "source": [
    "plt.figure(figsize=(8,6))\n",
    "\n",
    "sns.barplot(x=sample_group['allocation'], y=sample_group['transaction_flag']*100, ci=False)\n",
    "\n",
    "plt.ylim(0, 20)\n",
    "plt.title('Transaction Percent by group', pad=20)\n",
    "plt.xlabel('Group', labelpad=10)\n",
    "plt.ylabel('Transaction Percent', labelpad=15);"
   ]
  },
  {
   "cell_type": "code",
   "execution_count": 14,
   "id": "2f0c2056",
   "metadata": {},
   "outputs": [
    {
     "name": "stdout",
     "output_type": "stream",
     "text": [
      "z statistic: -9.83\n",
      "p-value: 0.000\n",
      "ci 95% for control group: [0.087, 0.105]\n",
      "ci 95% for treatment group: [0.161, 0.185]\n"
     ]
    }
   ],
   "source": [
    "control_transaction_results = sample_group[sample_group['allocation'] == 'control']['transaction_flag']\n",
    "treatment_transaction_results = sample_group[sample_group['allocation'] == 'treatment']['transaction_flag']\n",
    "\n",
    "n_con = control_transaction_results.count()\n",
    "n_treat = treatment_transaction_results.count()\n",
    "successes = [control_transaction_results.sum(), treatment_transaction_results.sum()]\n",
    "nobs = [n_con, n_treat]\n",
    "\n",
    "z_stat, pval = proportions_ztest(successes, nobs=nobs)\n",
    "(lower_con, lower_treat), (upper_con, upper_treat) = proportion_confint(successes, nobs=nobs, alpha=0.05)\n",
    "\n",
    "print(f'z statistic: {z_stat:.2f}')\n",
    "print(f'p-value: {pval:.3f}')\n",
    "print(f'ci 95% for control group: [{lower_con:.3f}, {upper_con:.3f}]')\n",
    "print(f'ci 95% for treatment group: [{lower_treat:.3f}, {upper_treat:.3f}]')"
   ]
  },
  {
   "cell_type": "markdown",
   "id": "010c25e6",
   "metadata": {},
   "source": [
    " It is stastically significant but we need to check if our uninstalls went up. Since we do not want our uninstalls to go up by using a notification system."
   ]
  },
  {
   "cell_type": "code",
   "execution_count": 15,
   "id": "0ec02277",
   "metadata": {},
   "outputs": [
    {
     "data": {
      "text/html": [
       "<div>\n",
       "<style scoped>\n",
       "    .dataframe tbody tr th:only-of-type {\n",
       "        vertical-align: middle;\n",
       "    }\n",
       "\n",
       "    .dataframe tbody tr th {\n",
       "        vertical-align: top;\n",
       "    }\n",
       "\n",
       "    .dataframe thead th {\n",
       "        text-align: right;\n",
       "    }\n",
       "</style>\n",
       "<table border=\"1\" class=\"dataframe\">\n",
       "  <thead>\n",
       "    <tr style=\"text-align: right;\">\n",
       "      <th></th>\n",
       "      <th>addtocart_flag</th>\n",
       "      <th>transaction_flag</th>\n",
       "      <th>purchase_value</th>\n",
       "      <th>uninstall_flag</th>\n",
       "    </tr>\n",
       "    <tr>\n",
       "      <th>allocation</th>\n",
       "      <th></th>\n",
       "      <th></th>\n",
       "      <th></th>\n",
       "      <th></th>\n",
       "    </tr>\n",
       "  </thead>\n",
       "  <tbody>\n",
       "    <tr>\n",
       "      <th>control</th>\n",
       "      <td>0.222838</td>\n",
       "      <td>0.095992</td>\n",
       "      <td>269.147085</td>\n",
       "      <td>0.028217</td>\n",
       "    </tr>\n",
       "    <tr>\n",
       "      <th>treatment</th>\n",
       "      <td>0.280854</td>\n",
       "      <td>0.172996</td>\n",
       "      <td>319.391390</td>\n",
       "      <td>0.055116</td>\n",
       "    </tr>\n",
       "  </tbody>\n",
       "</table>\n",
       "</div>"
      ],
      "text/plain": [
       "            addtocart_flag  transaction_flag  purchase_value  uninstall_flag\n",
       "allocation                                                                  \n",
       "control           0.222838          0.095992      269.147085        0.028217\n",
       "treatment         0.280854          0.172996      319.391390        0.055116"
      ]
     },
     "execution_count": 15,
     "metadata": {},
     "output_type": "execute_result"
    }
   ],
   "source": [
    "sample_group.groupby(by=[\"allocation\"])[[\"addtocart_flag\", \"transaction_flag\", \"purchase_value\", \"uninstall_flag\"]].mean()"
   ]
  },
  {
   "cell_type": "code",
   "execution_count": 16,
   "id": "cd6e726a",
   "metadata": {},
   "outputs": [
    {
     "data": {
      "text/plain": [
       "addtocart_flag       0.058017\n",
       "transaction_flag     0.077004\n",
       "purchase_value      50.244305\n",
       "uninstall_flag       0.026899\n",
       "dtype: float64"
      ]
     },
     "execution_count": 16,
     "metadata": {},
     "output_type": "execute_result"
    }
   ],
   "source": [
    "treatment_df = sample_group[sample_group[\"allocation\"] == \"treatment\"]\n",
    "control_df = sample_group[sample_group[\"allocation\"] == \"control\"]\n",
    "\n",
    "treatment_df[[\"addtocart_flag\", \"transaction_flag\", \"purchase_value\", \"uninstall_flag\"]].mean() - control_df[[\"addtocart_flag\", \"transaction_flag\", \"purchase_value\", \"uninstall_flag\"]].mean()"
   ]
  },
  {
   "cell_type": "markdown",
   "id": "82f3c48b",
   "metadata": {},
   "source": [
    "This means that the treatment group had a 6% higher add to cart flag or 6% higher chance of adding a lamp to their cart. <br>\n",
    "The treatment group had a 8% higher chance of purchasing lamp. <br>\n",
    "The treatment group also spent $50.244 more than the control group. <br>\n",
    "Finally the treatment group had a 3% higher uninstall rate, this means we would not push out the new notification to users as the goal was to not increase our uninstall rate for this test."
   ]
  },
  {
   "cell_type": "code",
   "execution_count": 17,
   "id": "fa434473",
   "metadata": {},
   "outputs": [
    {
     "name": "stdout",
     "output_type": "stream",
     "text": [
      "z statistic: -5.86\n",
      "p-value: 0.000\n",
      "ci 95% for control group: [0.023, 0.033]\n",
      "ci 95% for treatment group: [0.048, 0.062]\n"
     ]
    }
   ],
   "source": [
    "control_uninstall_flag = sample_group[sample_group['allocation'] == 'control']['uninstall_flag']\n",
    "treatment_uninstall_flag = sample_group[sample_group['allocation'] == 'treatment']['uninstall_flag']\n",
    "\n",
    "n_con = control_uninstall_flag.count()\n",
    "n_treat = treatment_uninstall_flag.count()\n",
    "successes = [control_uninstall_flag.sum(), treatment_uninstall_flag.sum()]\n",
    "nobs = [n_con, n_treat]\n",
    "\n",
    "z_stat, pval = proportions_ztest(successes, nobs=nobs)\n",
    "(lower_con, lower_treat), (upper_con, upper_treat) = proportion_confint(successes, nobs=nobs, alpha=0.05)\n",
    "\n",
    "print(f'z statistic: {z_stat:.2f}')\n",
    "print(f'p-value: {pval:.3f}')\n",
    "print(f'ci 95% for control group: [{lower_con:.3f}, {upper_con:.3f}]')\n",
    "print(f'ci 95% for treatment group: [{lower_treat:.3f}, {upper_treat:.3f}]')"
   ]
  },
  {
   "cell_type": "markdown",
   "id": "40e25775",
   "metadata": {},
   "source": [
    "### Final Remarks:\n",
    "\n",
    "Our uninstall rate for the control group was 2% to 3%\n",
    "While the uninstall rate for the notification group was 5% to 6%\n",
    "\n",
    "Therefore with a 3% increased uninstall rate we would not roll out the notification."
   ]
  },
  {
   "cell_type": "code",
   "execution_count": null,
   "id": "489f4cf3",
   "metadata": {},
   "outputs": [],
   "source": []
  }
 ],
 "metadata": {
  "kernelspec": {
   "display_name": "Python 3",
   "language": "python",
   "name": "python3"
  },
  "language_info": {
   "codemirror_mode": {
    "name": "ipython",
    "version": 3
   },
   "file_extension": ".py",
   "mimetype": "text/x-python",
   "name": "python",
   "nbconvert_exporter": "python",
   "pygments_lexer": "ipython3",
   "version": "3.8.8"
  }
 },
 "nbformat": 4,
 "nbformat_minor": 5
}
